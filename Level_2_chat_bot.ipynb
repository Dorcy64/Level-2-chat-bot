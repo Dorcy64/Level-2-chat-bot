{
  "nbformat": 4,
  "nbformat_minor": 0,
  "metadata": {
    "colab": {
      "name": "Level-2-chat-bot.ipynb",
      "provenance": [],
      "collapsed_sections": [],
      "authorship_tag": "ABX9TyMyVoR2UTE4fdoDbKb2P0RV",
      "include_colab_link": true
    },
    "kernelspec": {
      "name": "python3",
      "display_name": "Python 3"
    },
    "language_info": {
      "name": "python"
    }
  },
  "cells": [
    {
      "cell_type": "markdown",
      "metadata": {
        "id": "view-in-github",
        "colab_type": "text"
      },
      "source": [
        "<a href=\"https://colab.research.google.com/github/Dorcy64/Level-2-chat-bot/blob/main/Level_2_chat_bot.ipynb\" target=\"_parent\"><img src=\"https://colab.research.google.com/assets/colab-badge.svg\" alt=\"Open In Colab\"/></a>"
      ]
    },
    {
      "cell_type": "code",
      "metadata": {
        "colab": {
          "base_uri": "https://localhost:8080/"
        },
        "id": "FvFNbA69hH4h",
        "outputId": "c865cbec-084a-4a9d-e87a-989d2e1e040b"
      },
      "source": [
        "patterns = {\n",
        "    \"access\":   [\"access\", \"lost\", \"account\", \"login\", \"register\", \"where\"],\n",
        "    \"expiry\":   [\"limited\", \"timeframe\", \"expires\", \"expiriry\", \"expire\",\n",
        "                 \"limit\", \"time\"],\n",
        "    \"release\":  [\"when\", \"release\", \"month\", \"date\", \"day\", \"released\"],\n",
        "    \"revisited\":[\"live\", \"revisited\", \"revisit\", \"visit\", \"rewatch\"],\n",
        "    \"greeting\": [\"hi\", \"hey\", \"help\", \"hello\", \"how are you\"],\n",
        "    \n",
        "}\n",
        "\n",
        "class IntentClassifier(object):\n",
        "  def __init__(self, patterns):\n",
        "    self.patterns = patterns\n",
        "  \n",
        "  def classify(self, text):\n",
        "    for intent, pattern in self.patterns.items():\n",
        "      for word in pattern:\n",
        "        if word in f\" {text.lower()} \":\n",
        "          return intent\n",
        "    return \"notfound\"\n",
        "\n",
        "  def generete_answer(self, intent):\n",
        "    if intent == 'greeting':\n",
        "      return \"Hello. please ask me a question\"\n",
        "    if intent == 'access':\n",
        "      return \"You can only bid with an account at our website. PLease make an account.\"\n",
        "    if intent == 'expiry':\n",
        "      return \"Your account will not expire, unless you choose to delete it.\"\n",
        "    if intent == 'release':\n",
        "      return \"We are hoping to release the full software by tuesday next week\"\n",
        "    if intent == 'revisited':\n",
        "      return 'The website can be revisited but the auctions are live unless the buyer re-auctions it.'\n",
        "\n",
        "app = IntentClassifier(patterns)\n",
        "\n",
        "for x in range(5):\n",
        "  lets_test = input()\n",
        "  print(app.generete_answer(app.classify(lets_test)))\n"
      ],
      "execution_count": 15,
      "outputs": [
        {
          "output_type": "stream",
          "text": [
            "When will this course expire?\n",
            "Your account will not expire, unless you choose to delete it.\n",
            "Fees\n",
            "None\n",
            "\n",
            "None\n",
            "\n",
            "None\n",
            "\n",
            "None\n"
          ],
          "name": "stdout"
        }
      ]
    },
    {
      "cell_type": "code",
      "metadata": {
        "id": "T6oRM_gAjB-t"
      },
      "source": [
        " "
      ],
      "execution_count": 12,
      "outputs": []
    }
  ]
}